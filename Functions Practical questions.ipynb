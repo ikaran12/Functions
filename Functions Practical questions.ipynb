{
 "cells": [
  {
   "cell_type": "code",
   "execution_count": 1,
   "id": "26a3af72-04d6-4871-8e95-97e831b3e520",
   "metadata": {},
   "outputs": [],
   "source": [
    "# FUNCTIONS PRACTICAL QUESTIONS"
   ]
  },
  {
   "cell_type": "code",
   "execution_count": 7,
   "id": "83568b70-b1e9-41cb-a05e-3668a366e827",
   "metadata": {},
   "outputs": [
    {
     "name": "stdout",
     "output_type": "stream",
     "text": [
      "20\n"
     ]
    }
   ],
   "source": [
    "# 1. Write a Python function that takes a list of numbers as input and returns the sum of all even numbers in the list\n",
    "def sum_of_even_numbers(numbers):\n",
    "    # Use filter() to get only even numbers, then sum them up\n",
    "    even_numbers = filter(lambda x: x % 2 == 0, numbers)\n",
    "    return sum(even_numbers)\n",
    "\n",
    "# Example usage\n",
    "numbers = [1, 2, 3, 4, 5, 6, 7, 8]\n",
    "result = sum_of_even_numbers(numbers)\n",
    "print(result) \n"
   ]
  },
  {
   "cell_type": "code",
   "execution_count": 8,
   "id": "9a87f840-88af-45bf-9756-8e518c02d143",
   "metadata": {},
   "outputs": [
    {
     "name": "stdout",
     "output_type": "stream",
     "text": [
      "olleh\n"
     ]
    }
   ],
   "source": [
    "# 2 . Create a Python function that accepts a string and returns the reverse of that string\n",
    "def reverse_string(s):\n",
    "    return s[::-1]\n",
    "\n",
    "# Example usage\n",
    "input_string = \"hello\"\n",
    "result = reverse_string(input_string)\n",
    "print(result)  \n"
   ]
  },
  {
   "cell_type": "code",
   "execution_count": 13,
   "id": "31cf4074-115f-461f-b240-fd620dfd201e",
   "metadata": {},
   "outputs": [
    {
     "name": "stdout",
     "output_type": "stream",
     "text": [
      "[1, 4, 9, 16, 25]\n"
     ]
    }
   ],
   "source": [
    "#3. Implement a Python function that takes a list of integers and returns a new list containing the squares of each number.\n",
    "\n",
    "def square_numbers(numbers):\n",
    "    return [x ** 2 for x in numbers]\n",
    "\n",
    "# Example usage\n",
    "numbers = [1, 2, 3, 4, 5]\n",
    "squared_numbers = square_numbers(numbers)\n",
    "print(squared_numbers) \n",
    "\n",
    "\n"
   ]
  },
  {
   "cell_type": "code",
   "execution_count": 14,
   "id": "2f173ffd-9978-4309-a7bb-040cd374f7ff",
   "metadata": {},
   "outputs": [
    {
     "name": "stdout",
     "output_type": "stream",
     "text": [
      "2\n",
      "3\n",
      "5\n",
      "7\n",
      "11\n",
      "13\n",
      "17\n",
      "19\n",
      "23\n",
      "29\n",
      "31\n",
      "37\n",
      "41\n",
      "43\n",
      "47\n",
      "53\n",
      "59\n",
      "61\n",
      "67\n",
      "71\n",
      "73\n",
      "79\n",
      "83\n",
      "89\n",
      "97\n",
      "101\n",
      "103\n",
      "107\n",
      "109\n",
      "113\n",
      "127\n",
      "131\n",
      "137\n",
      "139\n",
      "149\n",
      "151\n",
      "157\n",
      "163\n",
      "167\n",
      "173\n",
      "179\n",
      "181\n",
      "191\n",
      "193\n",
      "197\n",
      "199\n"
     ]
    }
   ],
   "source": [
    "#4. Write a Python function that checks if a given number is prime or not from 1 to 200.\n",
    "def is_prime(n):\n",
    "    if n <= 1:  # Numbers less than or equal to 1 are not prime\n",
    "        return False\n",
    "    for i in range(2, int(n**0.5) + 1):  # Check divisibility from 2 to sqrt(n)\n",
    "        if n % i == 0:  # If divisible, it's not a prime\n",
    "            return False\n",
    "    return True\n",
    "\n",
    "# Example usage to check numbers from 1 to 200\n",
    "for num in range(1, 201):\n",
    "    if is_prime(num):\n",
    "        print(num)  \n"
   ]
  },
  {
   "cell_type": "code",
   "execution_count": 16,
   "id": "c5d30f45-553c-4e29-8ecd-582e63c7b0f4",
   "metadata": {},
   "outputs": [
    {
     "name": "stdout",
     "output_type": "stream",
     "text": [
      "0\n",
      "1\n",
      "1\n",
      "2\n",
      "3\n",
      "5\n",
      "8\n",
      "13\n",
      "21\n",
      "34\n"
     ]
    }
   ],
   "source": [
    "#5. Create an iterator class in Python that generates the Fibonacci sequence up to a specified number of terms.\n",
    "\n",
    "class FibonacciIterator:\n",
    "    def __init__(self, n):\n",
    "        self.n = n  # Number of terms in the Fibonacci sequence\n",
    "        self.a, self.b = 0, 1  # Starting values for Fibonacci sequence\n",
    "        self.count = 0  # Counter to keep track of how many terms have been generated\n",
    "\n",
    "    def __iter__(self):\n",
    "        return self  # The iterator object itself\n",
    "\n",
    "    def __next__(self):\n",
    "        if self.count < self.n:\n",
    "            # Return the current Fibonacci number\n",
    "            result = self.a\n",
    "            # Update Fibonacci numbers\n",
    "            self.a, self.b = self.b, self.a + self.b\n",
    "            self.count += 1\n",
    "            return result\n",
    "        else:\n",
    "            # Stop the iteration when the specified number of terms is reached\n",
    "            raise StopIteration\n",
    "\n",
    "# Example usage\n",
    "fibonacci = FibonacciIterator(10)  # Create an iterator for 10 terms\n",
    "for num in fibonacci:\n",
    "    print(num)  \n"
   ]
  },
  {
   "cell_type": "markdown",
   "id": "73a594b2-cb19-4b83-9c14-e3565ae6734a",
   "metadata": {},
   "source": [
    "#6. Write a generator function in Python that yields the powers of 2 up to a given exponent.\n",
    "def powers_of_2(5):\n",
    "    for i in range(5+ 1):  # Generate powers of 2 from 0 to the given exponent\n",
    "        yield 2 ** i\n",
    "\n",
    "\n"
   ]
  },
  {
   "cell_type": "code",
   "execution_count": 17,
   "id": "70f55ccf-6c7f-45d7-b683-a16a1a6f4708",
   "metadata": {},
   "outputs": [],
   "source": [
    "#7. Implement a generator function that reads a file line by line and yields each line as a string.\n",
    "def read_file_line_by_line(file_path):\n",
    "    with open(file_path, 'r') as file:\n",
    "        for line in file:\n",
    "            yield line.strip()  \n"
   ]
  },
  {
   "cell_type": "code",
   "execution_count": 18,
   "id": "6f3b5bd5-b3b1-4942-9d00-2e32eaeae33e",
   "metadata": {},
   "outputs": [
    {
     "name": "stdout",
     "output_type": "stream",
     "text": [
      "[(1, 'apple'), (3, 'banana'), (4, 'grape'), (2, 'orange')]\n"
     ]
    }
   ],
   "source": [
    "# 8.Use a lambda function in Python to sort a list of tuples based on the second element of each tuple.\n",
    "# List of tuples\n",
    "tuples = [(1, 'apple'), (3, 'banana'), (2, 'orange'), (4, 'grape')]\n",
    "\n",
    "# Sort the list of tuples based on the second element (index 1) of each tuple\n",
    "sorted_tuples = sorted(tuples, key=lambda x: x[1])\n",
    "\n",
    "# Output the sorted list\n",
    "print(sorted_tuples)\n"
   ]
  },
  {
   "cell_type": "code",
   "execution_count": 20,
   "id": "685f2c4f-5666-4f45-8b89-588809321ab3",
   "metadata": {},
   "outputs": [
    {
     "name": "stdout",
     "output_type": "stream",
     "text": [
      "[32.0, 68.0, 98.6, 212.0, 14.0]\n"
     ]
    }
   ],
   "source": [
    "#9. Write a Python program that uses `map()` to convert a list of temperatures from Celsius to Fahrenheit.\n",
    "# Function to convert Celsius to Fahrenheit\n",
    "def celsius_to_fahrenheit(celsius):\n",
    "    return (celsius * 9/5) + 32\n",
    "\n",
    "celsius_temps = [0, 20, 37, 100, -10]\n",
    "\n",
    "fahrenheit_temps = map(celsius_to_fahrenheit, celsius_temps)\n",
    "\n",
    "print(list(fahrenheit_temps))\n"
   ]
  },
  {
   "cell_type": "code",
   "execution_count": 22,
   "id": "81ca7043-50ee-4e7e-bfd1-275761cad6a5",
   "metadata": {},
   "outputs": [
    {
     "name": "stdout",
     "output_type": "stream",
     "text": [
      "Hll Wrld!\n"
     ]
    }
   ],
   "source": [
    "#10. Create a Python program that uses `filter()` to remove all the vowels from a given string.\n",
    "# Function to check if a character is not a vowel\n",
    "def is_not_vowel(char):\n",
    "    vowels = \"aeiouAEIOU\"\n",
    "    return char not in vowels\n",
    "\n",
    "input_string = \"Hello World!\"\n",
    "\n",
    "filtered_string = filter(is_not_vowel, input_string)\n",
    "result_string = ''.join(filtered_string)\n",
    "print(result_string)\n"
   ]
  },
  {
   "cell_type": "code",
   "execution_count": null,
   "id": "203f8fde-2eb2-418c-bc53-99a34b776aac",
   "metadata": {},
   "outputs": [],
   "source": []
  }
 ],
 "metadata": {
  "kernelspec": {
   "display_name": "Python 3 (ipykernel)",
   "language": "python",
   "name": "python3"
  },
  "language_info": {
   "codemirror_mode": {
    "name": "ipython",
    "version": 3
   },
   "file_extension": ".py",
   "mimetype": "text/x-python",
   "name": "python",
   "nbconvert_exporter": "python",
   "pygments_lexer": "ipython3",
   "version": "3.12.7"
  }
 },
 "nbformat": 4,
 "nbformat_minor": 5
}
